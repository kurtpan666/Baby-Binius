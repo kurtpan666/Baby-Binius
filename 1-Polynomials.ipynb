{
 "cells": [
  {
   "cell_type": "code",
   "execution_count": 4,
   "id": "8342c28a-579a-43c2-8567-ffa57404ca54",
   "metadata": {},
   "outputs": [],
   "source": [
    "def get_class(arg, start=int):\n",
    "    if isinstance(arg, (list, tuple)):\n",
    "        output = start\n",
    "        for a in arg:\n",
    "            output = get_class(a, output)\n",
    "        return output\n",
    "    elif start == int:\n",
    "        return arg.__class__\n",
    "    elif arg.__class__ == int:\n",
    "        return start\n",
    "    elif start == arg.__class__:\n",
    "        return arg.__class__\n",
    "    else:\n",
    "        raise Exception(\"Incompatible classes: {} {}\".format(start, arg.__class__))\n",
    "\n",
    "def spread_type(arg, cls):\n",
    "    if isinstance(arg, cls):\n",
    "        return arg\n",
    "    elif isinstance(arg, int):\n",
    "        return cls(arg)\n",
    "    elif isinstance(arg, (list, tuple)):\n",
    "        return arg.__class__([spread_type(item, cls) for item in arg])\n",
    "    else:\n",
    "        raise Exception(\"Type propagation of {} hit incompatible element: {}\".format(cls, arg))\n",
    "\n",
    "def enforce_type_compatibility(*args):\n",
    "    cls = get_class(args)\n",
    "    return tuple([cls] + list(spread_type(arg, cls) for arg in args))"
   ]
  },
  {
   "cell_type": "code",
   "execution_count": 5,
   "id": "9c63d279-c647-43be-861f-96ae2194e781",
   "metadata": {},
   "outputs": [],
   "source": [
    "# Evaluate a univariate polynomial at the given point\n",
    "def eval_poly_at(poly, pt):\n",
    "    cls, poly, pt = enforce_type_compatibility(poly, pt)\n",
    "    o = cls(0)\n",
    "    power = cls(1)\n",
    "    for coeff in poly:\n",
    "        o += coeff * power\n",
    "        power *= pt\n",
    "    return o"
   ]
  },
  {
   "cell_type": "code",
   "execution_count": 16,
   "id": "751d5a90-57a8-4c09-a7c5-2fdba863f3d9",
   "metadata": {},
   "outputs": [
    {
     "data": {
      "text/plain": [
       "51413"
      ]
     },
     "execution_count": 16,
     "metadata": {},
     "output_type": "execute_result"
    }
   ],
   "source": [
    "eval_poly_at([3, 1, 4, 1, 5], 10)"
   ]
  },
  {
   "cell_type": "code",
   "execution_count": 12,
   "id": "f0a7a555-6759-44b7-baaa-c15f15ab0711",
   "metadata": {},
   "outputs": [],
   "source": [
    "# Add two polynomials together\n",
    "def add_polys(a, b):\n",
    "    cls, a, b = enforce_type_compatibility(a, b)\n",
    "    minl, maxl = sorted((len(a), len(b)))\n",
    "    tail = [cls(0)] * (maxl - minl)\n",
    "    a += tail    \n",
    "    b += tail    \n",
    "    return [(a[i] + b[i]) for i in range(maxl)]"
   ]
  },
  {
   "cell_type": "code",
   "execution_count": 13,
   "id": "5a1d78b7-7514-4ace-a204-095692c124d0",
   "metadata": {},
   "outputs": [
    {
     "data": {
      "text/plain": [
       "[5, 7, 9]"
      ]
     },
     "execution_count": 13,
     "metadata": {},
     "output_type": "execute_result"
    }
   ],
   "source": [
    "add_polys([1,2,3],[4,5,6])"
   ]
  },
  {
   "cell_type": "code",
   "execution_count": 14,
   "id": "0b5a5309-39fe-4d38-ad7b-0dd4b405b09b",
   "metadata": {},
   "outputs": [],
   "source": [
    "# Multiply two polynomials together\n",
    "def mul_polys(a, b):\n",
    "    cls, a, b = enforce_type_compatibility(a, b)\n",
    "    o = [cls(0)] * (len(a) + len(b) - 1)\n",
    "    for i, aval in enumerate(a):\n",
    "        if aval != 0:\n",
    "            for j, bval in enumerate(b):\n",
    "                o[i+j] += aval * bval\n",
    "    return o"
   ]
  },
  {
   "cell_type": "code",
   "execution_count": 15,
   "id": "560bbe84-12ac-447f-9393-ca679d45e2b0",
   "metadata": {},
   "outputs": [
    {
     "data": {
      "text/plain": [
       "[-9, 0, 1]"
      ]
     },
     "execution_count": 15,
     "metadata": {},
     "output_type": "execute_result"
    }
   ],
   "source": [
    "mul_polys([-3,1],[3,1])"
   ]
  },
  {
   "cell_type": "code",
   "execution_count": null,
   "id": "3c43888b-46e4-432e-8b8a-103a8b3cece1",
   "metadata": {},
   "outputs": [],
   "source": []
  }
 ],
 "metadata": {
  "kernelspec": {
   "display_name": "Python 3 (ipykernel)",
   "language": "python",
   "name": "python3"
  },
  "language_info": {
   "codemirror_mode": {
    "name": "ipython",
    "version": 3
   },
   "file_extension": ".py",
   "mimetype": "text/x-python",
   "name": "python",
   "nbconvert_exporter": "python",
   "pygments_lexer": "ipython3",
   "version": "3.11.5"
  }
 },
 "nbformat": 4,
 "nbformat_minor": 5
}
