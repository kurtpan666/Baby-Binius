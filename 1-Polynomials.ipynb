{
 "cells": [
  {
   "cell_type": "code",
   "execution_count": 27,
   "id": "8342c28a-579a-43c2-8567-ffa57404ca54",
   "metadata": {},
   "outputs": [],
   "source": [
    "def get_class(arg, start=int):\n",
    "    if isinstance(arg, (list, tuple)):\n",
    "        output = start\n",
    "        for a in arg:\n",
    "            output = get_class(a, output)\n",
    "        return output\n",
    "    elif start == int:\n",
    "        return arg.__class__\n",
    "    elif arg.__class__ == int:\n",
    "        return start\n",
    "    elif start == arg.__class__:\n",
    "        return arg.__class__\n",
    "    else:\n",
    "        raise Exception(\"Incompatible classes: {} {}\".format(start, arg.__class__))\n",
    "\n",
    "def spread_type(arg, cls):\n",
    "    if isinstance(arg, cls):\n",
    "        return arg\n",
    "    elif isinstance(arg, int):\n",
    "        return cls(arg)\n",
    "    elif isinstance(arg, (list, tuple)):\n",
    "        return arg.__class__([spread_type(item, cls) for item in arg])\n",
    "    else:\n",
    "        raise Exception(\"Type propagation of {} hit incompatible element: {}\".format(cls, arg))\n",
    "\n",
    "def enforce_type_compatibility(*args):\n",
    "    cls = get_class(args)\n",
    "    return tuple([cls] + list(spread_type(arg, cls) for arg in args))\n",
    "\n",
    "def log2(x):\n",
    "    assert x & (x-1) == 0 #only takes powers of 2\n",
    "    return x.bit_length() - 1\n",
    "\n",
    "# Packs a list of bits into a smaller list of binary representations\n",
    "def pack_vector(bits, slice_size):\n",
    "    o = []\n",
    "    for pos in range(0, len(bits), slice_size):\n",
    "        new_value = 0\n",
    "        for v in reversed(bits[pos:pos+slice_size]):\n",
    "            assert v == 0 or v == 1\n",
    "            new_value = (new_value * 2) + (1 if v == 1 else 0)\n",
    "        o.append(new_value)\n",
    "    _, _, o = enforce_type_compatibility(bits, o)\n",
    "    return o"
   ]
  },
  {
   "cell_type": "code",
   "execution_count": 5,
   "id": "9c63d279-c647-43be-861f-96ae2194e781",
   "metadata": {},
   "outputs": [],
   "source": [
    "# Evaluate a univariate polynomial at the given point\n",
    "def eval_poly_at(poly, pt):\n",
    "    cls, poly, pt = enforce_type_compatibility(poly, pt)\n",
    "    o = cls(0)\n",
    "    power = cls(1)\n",
    "    for coeff in poly:\n",
    "        o += coeff * power\n",
    "        power *= pt\n",
    "    return o"
   ]
  },
  {
   "cell_type": "code",
   "execution_count": 16,
   "id": "751d5a90-57a8-4c09-a7c5-2fdba863f3d9",
   "metadata": {},
   "outputs": [
    {
     "data": {
      "text/plain": [
       "51413"
      ]
     },
     "execution_count": 16,
     "metadata": {},
     "output_type": "execute_result"
    }
   ],
   "source": [
    "eval_poly_at([3, 1, 4, 1, 5], 10)"
   ]
  },
  {
   "cell_type": "code",
   "execution_count": 12,
   "id": "f0a7a555-6759-44b7-baaa-c15f15ab0711",
   "metadata": {},
   "outputs": [],
   "source": [
    "# Add two polynomials together\n",
    "def add_polys(a, b):\n",
    "    cls, a, b = enforce_type_compatibility(a, b)\n",
    "    minl, maxl = sorted((len(a), len(b)))\n",
    "    tail = [cls(0)] * (maxl - minl)\n",
    "    a += tail    \n",
    "    b += tail    \n",
    "    return [(a[i] + b[i]) for i in range(maxl)]"
   ]
  },
  {
   "cell_type": "code",
   "execution_count": 13,
   "id": "5a1d78b7-7514-4ace-a204-095692c124d0",
   "metadata": {},
   "outputs": [
    {
     "data": {
      "text/plain": [
       "[5, 7, 9]"
      ]
     },
     "execution_count": 13,
     "metadata": {},
     "output_type": "execute_result"
    }
   ],
   "source": [
    "add_polys([1,2,3],[4,5,6])"
   ]
  },
  {
   "cell_type": "code",
   "execution_count": 14,
   "id": "0b5a5309-39fe-4d38-ad7b-0dd4b405b09b",
   "metadata": {},
   "outputs": [],
   "source": [
    "# Multiply two polynomials together\n",
    "def mul_polys(a, b):\n",
    "    cls, a, b = enforce_type_compatibility(a, b)\n",
    "    o = [cls(0)] * (len(a) + len(b) - 1)\n",
    "    for i, aval in enumerate(a):\n",
    "        if aval != 0:\n",
    "            for j, bval in enumerate(b):\n",
    "                o[i+j] += aval * bval\n",
    "    return o"
   ]
  },
  {
   "cell_type": "code",
   "execution_count": 15,
   "id": "560bbe84-12ac-447f-9393-ca679d45e2b0",
   "metadata": {},
   "outputs": [
    {
     "data": {
      "text/plain": [
       "[-9, 0, 1]"
      ]
     },
     "execution_count": 15,
     "metadata": {},
     "output_type": "execute_result"
    }
   ],
   "source": [
    "mul_polys([-3,1],[3,1])"
   ]
  },
  {
   "cell_type": "code",
   "execution_count": 17,
   "id": "3c43888b-46e4-432e-8b8a-103a8b3cece1",
   "metadata": {},
   "outputs": [],
   "source": [
    "# Computes the polynomial that equals 0 over 0...size-1, except at pt where it equals 1.\n",
    "def compute_lagrange_poly(size, pt):\n",
    "    cls = get_class(pt)\n",
    "    opoly = [cls(1)]\n",
    "    ofactor = cls(1)\n",
    "    for i in range(size):\n",
    "        _i = cls(i)\n",
    "        if _i != pt:\n",
    "            opoly = mul_polys(opoly, [-_i, 1])\n",
    "            ofactor *= (pt - _i)\n",
    "    return [x/ofactor for x in opoly]"
   ]
  },
  {
   "cell_type": "code",
   "execution_count": 18,
   "id": "cf569632-2e9e-4f96-8c91-8bad577d1ec9",
   "metadata": {},
   "outputs": [
    {
     "data": {
      "text/plain": [
       "[1.0, -1.8333333333333333, 1.0, -0.16666666666666666]"
      ]
     },
     "execution_count": 18,
     "metadata": {},
     "output_type": "execute_result"
    }
   ],
   "source": [
    "compute_lagrange_poly(4, 0)\n",
    "#\n",
    "# Plugging x={0,1,2,3,4,5} into this polynomial gives y={1,0,0,0,-1,-4}\n",
    "# (approximately, since floats are inexact), as expected"
   ]
  },
  {
   "cell_type": "code",
   "execution_count": 19,
   "id": "8b9c54d0-8191-4d5e-b749-652851040843",
   "metadata": {},
   "outputs": [],
   "source": [
    "# Treat `evals` as the evaluations of a multilinear polynomial over {0,1}^k.\n",
    "# That is, if evals is [a,b,c,d], then a=P(0,0), b=P(1,0), c=P(0,1), d=P(1,1)\n",
    "# Evaluate that polynomial at pt\n",
    "def multilinear_poly_eval(evals, pt):\n",
    "    cls, evals, pt = enforce_type_compatibility(evals, pt)\n",
    "    assert len(evals) == 2 ** len(pt)\n",
    "    return _multilinear_poly_eval(cls, evals, pt)\n",
    "\n",
    "def _multilinear_poly_eval(cls, evals, pt):\n",
    "    if len(pt) == 0:\n",
    "        return evals[0]\n",
    "    top = _multilinear_poly_eval(cls, evals[:len(evals)//2], pt[:-1])\n",
    "    bottom = _multilinear_poly_eval(cls, evals[len(evals)//2:], pt[:-1])\n",
    "    return (\n",
    "        (bottom - top) * pt[-1] + top\n",
    "    )"
   ]
  },
  {
   "cell_type": "code",
   "execution_count": 20,
   "id": "742f12a3-a7d4-4d23-896a-88df8acd49dc",
   "metadata": {},
   "outputs": [
    {
     "data": {
      "text/plain": [
       "3"
      ]
     },
     "execution_count": 20,
     "metadata": {},
     "output_type": "execute_result"
    }
   ],
   "source": [
    "multilinear_poly_eval([3, 14, 15, 92], [0,0])"
   ]
  },
  {
   "cell_type": "code",
   "execution_count": 21,
   "id": "6ded3f5f-c798-45f7-a557-717811321d1c",
   "metadata": {},
   "outputs": [
    {
     "data": {
      "text/plain": [
       "14"
      ]
     },
     "execution_count": 21,
     "metadata": {},
     "output_type": "execute_result"
    }
   ],
   "source": [
    "multilinear_poly_eval([3, 14, 15, 92], [1,0])"
   ]
  },
  {
   "cell_type": "code",
   "execution_count": 22,
   "id": "6abf0f14-0194-4b1d-b5a4-70f7ee9868f0",
   "metadata": {},
   "outputs": [
    {
     "data": {
      "text/plain": [
       "745"
      ]
     },
     "execution_count": 22,
     "metadata": {},
     "output_type": "execute_result"
    }
   ],
   "source": [
    "multilinear_poly_eval([3, 14, 15, 92], [2, 5])"
   ]
  },
  {
   "cell_type": "code",
   "execution_count": 23,
   "id": "7841d2d3-fba7-48d4-ba8b-27be5fdf51ba",
   "metadata": {},
   "outputs": [],
   "source": [
    "# Uses a Reed-Solomon code to extend the input list of N values into a list of\n",
    "# 2N values. That is, treat the input as P(0) ... P(N-1) for some polynomial\n",
    "# P, and then append P(N) ... P(2N-1).\n",
    "#\n",
    "# Example (over regular integers):\n",
    "#\n",
    "# >>> u.extend([1, 4, 9, 16])\n",
    "# [1, 4, 9, 16, 24.999999999999986, 35.99999999999997, 49.0, 64.0]\n",
    "\n",
    "def extend(vals, expansion_factor=2):\n",
    "    cls, vals = enforce_type_compatibility(vals)\n",
    "    lagranges = [\n",
    "        compute_lagrange_poly(len(vals), cls(i))\n",
    "        for i in range(len(vals))\n",
    "    ]\n",
    "    output = vals[::]\n",
    "    for x in range(len(vals), expansion_factor * len(vals)):\n",
    "        o = cls(0)\n",
    "        for v, L in zip(vals, lagranges):\n",
    "            o += v * eval_poly_at(L, x)\n",
    "        output.append(o)\n",
    "    return output"
   ]
  },
  {
   "cell_type": "code",
   "execution_count": 24,
   "id": "cda50996-f4e9-42bb-a483-d75be7da4c1b",
   "metadata": {},
   "outputs": [],
   "source": [
    "# Returns the 2^k-long list of all possible results of walking through pt\n",
    "# (an evaluation point) and at each step taking either coord or 1-coord.\n",
    "# This is a natural companion method to `multilinear_poly_eval`, because\n",
    "# it gives a list where `output[i]` equals\n",
    "# `multilinear_poly_eval([0, 0 ... 1 ... 0, 0], pt)`, where the 1 is in\n",
    "# position i.\n",
    "#\n",
    "# Example (over regular integers):\n",
    "#\n",
    "# >>> u.evaluation_tensor_product([2, 5])\n",
    "# [4, -8, -5, 10]\n",
    "# >>> u.multilinear_poly_eval([1,0,0,0], [2,5])\n",
    "# 4\n",
    "# >>> u.multilinear_poly_eval([0,1,0,0], [2,5])\n",
    "# -8\n",
    "\n",
    "def evaluation_tensor_product(pt):\n",
    "    cls, pt = enforce_type_compatibility(pt)\n",
    "    o = [cls(1)]\n",
    "    for coord in pt:\n",
    "        o = [\n",
    "            (cls(1) - coord) * v for v in o\n",
    "        ] + [\n",
    "            coord * v for v in o\n",
    "        ]\n",
    "    return o"
   ]
  },
  {
   "cell_type": "code",
   "execution_count": null,
   "id": "3cf72a48-aacc-4fee-b5bb-d9a2470bd105",
   "metadata": {},
   "outputs": [],
   "source": []
  }
 ],
 "metadata": {
  "kernelspec": {
   "display_name": "Python 3 (ipykernel)",
   "language": "python",
   "name": "python3"
  },
  "language_info": {
   "codemirror_mode": {
    "name": "ipython",
    "version": 3
   },
   "file_extension": ".py",
   "mimetype": "text/x-python",
   "name": "python",
   "nbconvert_exporter": "python",
   "pygments_lexer": "ipython3",
   "version": "3.11.5"
  }
 },
 "nbformat": 4,
 "nbformat_minor": 5
}
